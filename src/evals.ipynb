{
 "cells": [
  {
   "cell_type": "code",
   "execution_count": null,
   "metadata": {},
   "outputs": [],
   "source": [
    "import pandas as pd\n",
    "import numpy as np\n",
    "import matplotlib.pyplot as plt\n",
    "from sklearn.model_selection import StratifiedKFold\n",
    "import time\n",
    "from tqdm import tqdm\n",
    "import json\n",
    "from contextlib import redirect_stdout\n",
    "from autorank import autorank, plot_stats\n",
    "import scikit_posthocs as sp\n",
    "import io\n",
    "import warnings\n",
    "warnings.filterwarnings('ignore')\n",
    "from sklearn.ensemble import RandomForestClassifier\n",
    "from sklearn.metrics import f1_score, matthews_corrcoef, accuracy_score\n",
    "import hashlib\n",
    "from collections import defaultdict\n",
    "import itertools"
   ]
  },
  {
   "cell_type": "markdown",
   "metadata": {},
   "source": [
    "## Load relevant results"
   ]
  },
  {
   "cell_type": "code",
   "execution_count": null,
   "metadata": {},
   "outputs": [],
   "source": []
  },
  {
   "cell_type": "markdown",
   "metadata": {},
   "source": [
    "## Perform stat tests"
   ]
  },
  {
   "cell_type": "code",
   "execution_count": null,
   "metadata": {},
   "outputs": [],
   "source": [
    "def stat_tests(metric, signifigance_level = 0.05):\n",
    "\n",
    "    column_names = [f'fold {i}' for i in range(10)]\n",
    "    df = pd.DataFrame([sgd_data, scg_data, lfrog_data], columns=column_names)\n",
    "    df = df.T\n",
    "    df.columns = ['SGD', 'SCG', 'LFROG']\n",
    "\n",
    "    map = {\n",
    "        'val_wall': 'Validation Wall Time (Time to Convergence)',\n",
    "        'val_epoch': 'Validation Epochs (Epochs to Convergence)', \n",
    "        'train_wall': 'Training Wall Time (Time to Convergence)',\n",
    "        'train_epoch': 'Training Epochs (Epochs to Convergence)'\n",
    "        }\n",
    "\n",
    "    posthoc_results = sp.posthoc_nemenyi_friedman(df)\n",
    "    plt.title(f'Signifigance Plot between best KNN and DT models based on {map[metric]}')\n",
    "    sp.sign_plot(posthoc_results)\n",
    "    plt.title('p-value')\n",
    "    plt.show\n",
    "\n",
    "    f = io.StringIO()\n",
    "    with redirect_stdout(f):\n",
    "        results = autorank(df, alpha=signifigance_level, verbose=False, force_mode='nonparametric', order='ascending')\n",
    "    plot_stats(results)\n",
    "    plt.title(f'Critical Distance plot based on {map[metric]}')\n",
    "    plt.show()\n",
    "\n",
    "    ranking_order = results.rankdf.index.tolist()\n",
    "    for k in ranking_order:\n",
    "        print(f\"{k}: {out[metric+'_avg']} ± {out[metric+'_std']} \\t\\t params: {k}\")"
   ]
  }
 ],
 "metadata": {
  "language_info": {
   "name": "python"
  }
 },
 "nbformat": 4,
 "nbformat_minor": 2
}
